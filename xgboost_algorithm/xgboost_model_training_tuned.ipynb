{
 "cells": [
  {
   "cell_type": "markdown",
   "id": "0abcb67b",
   "metadata": {},
   "source": [
    "Importing Necessary Library:"
   ]
  },
  {
   "cell_type": "code",
   "execution_count": 1,
   "id": "252d3200",
   "metadata": {},
   "outputs": [],
   "source": [
    "import os\n",
    "import cv2\n",
    "import numpy as np\n",
    "import joblib\n",
    "import time\n",
    "from tqdm import tqdm\n",
    "import rasterio\n",
    "from xgboost import XGBClassifier\n",
    "from sklearn.model_selection import train_test_split\n",
    "from sklearn.metrics import (\n",
    "    accuracy_score, classification_report,\n",
    "    confusion_matrix, precision_score,\n",
    "    recall_score, f1_score\n",
    ")\n",
    "from skopt import BayesSearchCV\n",
    "from skopt.space import Integer, Real"
   ]
  },
  {
   "cell_type": "code",
   "execution_count": 36,
   "id": "b2b7d718",
   "metadata": {},
   "outputs": [],
   "source": [
    "# --------------------- Step 1: GUI Directory Selection ---------------------\n",
    "IMAGE_DIR = \"E:/Faruq/Business/DEEPRESENSE/Experimental/binary classification/water body/Dataset/True Color dataset/Sentinel Data/10m resolution/image_dataset\"\n",
    "LABEL_DIR = \"E:/Faruq/Business/DEEPRESENSE/Experimental/binary classification/water body/Dataset/True Color dataset/Sentinel Data/10m resolution/label_dataset\"\n",
    "MODEL_PATH = \"E:/Faruq/Business/DEEPRESENSE/Experimental/binary classification/water body/Model/XGBoost Algorithm/xgboost_model_10m_new.pkl\"\n",
    "\n",
    "# --------------------- Start Timer ---------------------\n",
    "start_time = time.time()"
   ]
  },
  {
   "cell_type": "code",
   "execution_count": 32,
   "id": "5d0093b9",
   "metadata": {},
   "outputs": [
    {
     "name": "stdout",
     "output_type": "stream",
     "text": [
      "📂 Loading and preprocessing data...\n"
     ]
    },
    {
     "name": "stderr",
     "output_type": "stream",
     "text": [
      "Loading Files: 100%|██████████| 25/25 [00:00<00:00, 82.72it/s]\n"
     ]
    },
    {
     "name": "stdout",
     "output_type": "stream",
     "text": [
      "\n",
      "🖼️ First 5 feature rows (X):\n",
      "[[24 52 23]\n",
      " [28 59 23]\n",
      " [33 72 30]\n",
      " [28 64 25]\n",
      " [28 59 22]]\n",
      "\n",
      "🏷️ First 5 label values (y):\n",
      "[0. 0. 0. 0. 0.]\n"
     ]
    }
   ],
   "source": [
    "# --------------------- Step 2: Load and Preprocess Data ---------------------\n",
    "print(\"📂 Loading and preprocessing data...\")\n",
    "image_files = sorted(os.listdir(IMAGE_DIR))\n",
    "label_files = sorted(os.listdir(LABEL_DIR))\n",
    "features, labels = [], []\n",
    "\n",
    "with tqdm(zip(image_files, label_files), total=len(image_files), desc=\"Loading Files\") as pbar:\n",
    "    for img_file, lbl_file in pbar:\n",
    "        img_path = os.path.join(IMAGE_DIR, img_file)\n",
    "        lbl_path = os.path.join(LABEL_DIR, lbl_file)\n",
    "\n",
    "        # Remove coordinates if present (GeoTIFF → array only)\n",
    "        try:\n",
    "            with rasterio.open(img_path) as src:\n",
    "                img = src.read([1, 2, 3])  # Read first 3 bands\n",
    "                img = np.transpose(img, (1, 2, 0))  # Convert to HWC\n",
    "        except:\n",
    "            img = cv2.imread(img_path)\n",
    "\n",
    "        label = cv2.imread(lbl_path, cv2.IMREAD_UNCHANGED)\n",
    "\n",
    "        if img is None or label is None:\n",
    "            pbar.write(f\"⚠️ Skipping {img_file}/{lbl_file}\")\n",
    "            continue\n",
    "\n",
    "        if img.shape[:2] != label.shape[:2]:\n",
    "            label = cv2.resize(label, (img.shape[1], img.shape[0]),\n",
    "                               interpolation=cv2.INTER_NEAREST)\n",
    "\n",
    "        features.append(img.reshape(-1, 3))\n",
    "        labels.append(label.flatten())\n",
    "\n",
    "X, y = np.concatenate(features), np.concatenate(labels)\n",
    "print(\"\\n🖼️ First 5 feature rows (X):\")\n",
    "print(X[:5])\n",
    "\n",
    "print(\"\\n🏷️ First 5 label values (y):\")\n",
    "print(y[:5])\n",
    "\n",
    "X_train, X_test, y_train, y_test = train_test_split(\n",
    "    X, y, test_size=0.2, stratify=y, random_state=42\n",
    ")"
   ]
  },
  {
   "cell_type": "code",
   "execution_count": 34,
   "id": "351628e6",
   "metadata": {},
   "outputs": [
    {
     "name": "stdout",
     "output_type": "stream",
     "text": [
      "Number of Class: 2\n"
     ]
    }
   ],
   "source": [
    "# --------------------- Step 3: Problem Type Detection ---------------------\n",
    "n_classes = len(np.unique(y))\n",
    "is_multiclass = n_classes > 2\n",
    "params = {\n",
    "    'eval_metric': 'mlogloss' if is_multiclass else 'logloss',\n",
    "    'objective': 'multi:softmax' if is_multiclass else 'binary:logistic'\n",
    "}\n",
    "if is_multiclass:\n",
    "    params['num_class'] = str(n_classes)\n",
    "\n",
    "print(\"Number of Class:\",n_classes)\n"
   ]
  },
  {
   "cell_type": "code",
   "execution_count": 35,
   "id": "f9c60356",
   "metadata": {},
   "outputs": [
    {
     "name": "stdout",
     "output_type": "stream",
     "text": [
      "🔍 Training binary model...\n"
     ]
    },
    {
     "name": "stderr",
     "output_type": "stream",
     "text": [
      "Hyperparameter Search:   2%|▏         | 1/50 [11:25<9:19:52, 685.55s/it, Best F1=0.9248]\n"
     ]
    }
   ],
   "source": [
    "# --------------------- Step 4: Hyperparameter Search ---------------------\n",
    "opt = BayesSearchCV(\n",
    "    XGBClassifier(**params, n_jobs=-1, random_state=42),\n",
    "    {\n",
    "        'n_estimators': Integer(50, 500),\n",
    "        'learning_rate': Real(0.01, 0.3, 'log-uniform'),\n",
    "        'max_depth': Integer(3, 12),\n",
    "        'reg_lambda': Real(0.1, 10.0, 'log-uniform'),\n",
    "        'reg_alpha': Real(0.1, 10.0, 'log-uniform'),\n",
    "        'subsample': Real(0.6, 1.0),\n",
    "        'colsample_bytree': Real(0.6, 1.0)\n",
    "    },\n",
    "    n_iter=50,\n",
    "    cv=3,\n",
    "    scoring='f1',\n",
    "    # refit=True,\n",
    "    # random_state=42,\n",
    "    # return_train_score=True,\n",
    "    n_jobs=1\n",
    ")\n",
    "\n",
    "print(f\"🔍 Training {'multi-class' if is_multiclass else 'binary'} model...\")\n",
    "with tqdm(total=opt.n_iter, desc=\"Hyperparameter Search\") as pbar:\n",
    "    opt.fit(X_train, y_train,\n",
    "            verbose=False,\n",
    "            eval_set=[(X_test, y_test)],\n",
    "            callback=[lambda _: pbar.update(1)])\n",
    "    pbar.set_postfix({\"Best F1\": f\"{opt.best_score_:.4f}\"})"
   ]
  },
  {
   "cell_type": "code",
   "execution_count": 37,
   "id": "4ca446af",
   "metadata": {},
   "outputs": [
    {
     "name": "stdout",
     "output_type": "stream",
     "text": [
      "\n",
      "🏆 Best Parameters: OrderedDict([('colsample_bytree', 0.6736823539472551), ('learning_rate', 0.011874924390037553), ('max_depth', 5), ('n_estimators', 186), ('reg_alpha', 1.7526102286773533), ('reg_lambda', 0.12427736115210138), ('subsample', 0.7156126116743664)])\n",
      "\n",
      "📊 Model Performance:\n",
      "✅ Accuracy:  0.9439\n",
      "🎯 Precision: 0.9438\n",
      "🔍 Recall:    0.9439\n",
      "💯 F1 Score:  0.9437\n",
      "\n",
      "📋 Detailed Classification Report:\n",
      "              precision    recall  f1-score   support\n",
      "\n",
      "         0.0       0.95      0.97      0.96   3098059\n",
      "         1.0       0.94      0.91      0.92   1901941\n",
      "\n",
      "    accuracy                           0.94   5000000\n",
      "   macro avg       0.94      0.94      0.94   5000000\n",
      "weighted avg       0.94      0.94      0.94   5000000\n",
      "\n",
      "\n",
      "🧩 Confusion Matrix:\n",
      "[[2990940  107119]\n",
      " [ 173425 1728516]]\n",
      "\n",
      "🕒 Total Runtime: 21.12 seconds\n"
     ]
    }
   ],
   "source": [
    "# --------------------- Step 5: Save & Evaluate ---------------------\n",
    "joblib.dump(opt.best_estimator_, MODEL_PATH)\n",
    "y_pred = opt.best_estimator_.predict(X_test)\n",
    "\n",
    "# Final metrics\n",
    "accuracy = accuracy_score(y_test, y_pred)\n",
    "precision = precision_score(y_test, y_pred, average='weighted')\n",
    "recall = recall_score(y_test, y_pred, average='weighted')\n",
    "f1 = f1_score(y_test, y_pred, average='weighted')\n",
    "\n",
    "print(f\"\\n🏆 Best Parameters: {opt.best_params_}\")\n",
    "print(\"\\n📊 Model Performance:\")\n",
    "print(f\"✅ Accuracy:  {accuracy:.4f}\")\n",
    "print(f\"🎯 Precision: {precision:.4f}\")\n",
    "print(f\"🔍 Recall:    {recall:.4f}\")\n",
    "print(f\"💯 F1 Score:  {f1:.4f}\")\n",
    "\n",
    "print(\"\\n📋 Detailed Classification Report:\")\n",
    "print(classification_report(y_test, y_pred))\n",
    "\n",
    "print(\"\\n🧩 Confusion Matrix:\")\n",
    "print(confusion_matrix(y_test, y_pred))\n",
    "\n",
    "print(f\"\\n🕒 Total Runtime: {time.time() - start_time:.2f} seconds\")"
   ]
  }
 ],
 "metadata": {
  "kernelspec": {
   "display_name": "Python 3 (ipykernel)",
   "language": "python",
   "name": "python3"
  },
  "language_info": {
   "codemirror_mode": {
    "name": "ipython",
    "version": 3
   },
   "file_extension": ".py",
   "mimetype": "text/x-python",
   "name": "python",
   "nbconvert_exporter": "python",
   "pygments_lexer": "ipython3",
   "version": "3.11.9"
  }
 },
 "nbformat": 4,
 "nbformat_minor": 5
}
