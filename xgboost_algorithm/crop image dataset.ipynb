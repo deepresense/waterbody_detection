{
 "cells": [
  {
   "cell_type": "code",
   "execution_count": 1,
   "id": "789e5219-9384-4258-92f1-1fdb880e02d3",
   "metadata": {},
   "outputs": [
    {
     "ename": "ModuleNotFoundError",
     "evalue": "No module named 'PIL'",
     "output_type": "error",
     "traceback": [
      "\u001b[31m---------------------------------------------------------------------------\u001b[39m",
      "\u001b[31mModuleNotFoundError\u001b[39m                       Traceback (most recent call last)",
      "\u001b[36mCell\u001b[39m\u001b[36m \u001b[39m\u001b[32mIn[1]\u001b[39m\u001b[32m, line 3\u001b[39m\n\u001b[32m      1\u001b[39m \u001b[38;5;28;01mfrom\u001b[39;00m\u001b[38;5;250m \u001b[39m\u001b[34;01mipywidgets\u001b[39;00m\u001b[38;5;250m \u001b[39m\u001b[38;5;28;01mimport\u001b[39;00m FileUpload, Button, VBox, Label\n\u001b[32m      2\u001b[39m \u001b[38;5;28;01mfrom\u001b[39;00m\u001b[38;5;250m \u001b[39m\u001b[34;01mIPython\u001b[39;00m\u001b[34;01m.\u001b[39;00m\u001b[34;01mdisplay\u001b[39;00m\u001b[38;5;250m \u001b[39m\u001b[38;5;28;01mimport\u001b[39;00m display, clear_output\n\u001b[32m----> \u001b[39m\u001b[32m3\u001b[39m \u001b[38;5;28;01mfrom\u001b[39;00m\u001b[38;5;250m \u001b[39m\u001b[34;01mPIL\u001b[39;00m\u001b[38;5;250m \u001b[39m\u001b[38;5;28;01mimport\u001b[39;00m Image\n\u001b[32m      4\u001b[39m \u001b[38;5;28;01mimport\u001b[39;00m\u001b[38;5;250m \u001b[39m\u001b[34;01mio\u001b[39;00m\n\u001b[32m      5\u001b[39m \u001b[38;5;28;01mimport\u001b[39;00m\u001b[38;5;250m \u001b[39m\u001b[34;01mos\u001b[39;00m\n",
      "\u001b[31mModuleNotFoundError\u001b[39m: No module named 'PIL'"
     ]
    }
   ],
   "source": [
    "from ipywidgets import FileUpload, Button, VBox, Label\n",
    "from IPython.display import display, clear_output\n",
    "from PIL import Image\n",
    "import io\n",
    "import os\n",
    "\n",
    "# Step 1: Upload images\n",
    "uploader = FileUpload(accept='image/*', multiple=True)\n",
    "upload_label = Label(\"Upload your images:\")\n",
    "upload_box = VBox([upload_label, uploader])\n",
    "display(upload_box)\n",
    "\n",
    "# Wait for upload\n",
    "while not uploader.value:\n",
    "    pass  # Wait until files are uploaded\n",
    "\n",
    "# Step 2: Ask for square size\n",
    "size_input = widgets.BoundedIntText(\n",
    "    value=256,\n",
    "    min=1,\n",
    "    max=10000,\n",
    "    description='Crop Size (px):'\n",
    ")\n",
    "display(size_input)\n",
    "\n",
    "button = Button(description=\"Process Images\")\n",
    "output_label = Label(\"\")\n",
    "vbox = VBox([button, output_label])\n",
    "display(vbox)\n",
    "\n",
    "# Function to handle button click\n",
    "def on_button_click(b):\n",
    "    clear_output()\n",
    "    reference_size = size_input.value\n",
    "    display(Label(f\"Cropping to {reference_size}x{reference_size} pixels...\"))\n",
    "\n",
    "    # Process each uploaded image\n",
    "    for filename, data in uploader.value.items():\n",
    "        try:\n",
    "            img = Image.open(io.BytesIO(data['content']))\n",
    "\n",
    "            # Crop to square\n",
    "            width, height = img.size\n",
    "            left = (width - reference_size) // 2\n",
    "            top = (height - reference_size) // 2\n",
    "            right = left + reference_size\n",
    "            bottom = top + reference_size\n",
    "            cropped_img = img.crop((left, top, right, bottom))\n",
    "\n",
    "            # Save to bytes\n",
    "            cropped_bytes = io.BytesIO()\n",
    "            cropped_img.save(cropped_bytes, format=img.format)\n",
    "\n",
    "            # Create download link\n",
    "            from IPython.display import HTML\n",
    "            b64 = base64.b64encode(cropped_bytes.getvalue()).decode()\n",
    "            href = f'<a download=\"cropped_{filename}\" href=\"data:image/{img.format.lower()};base64,{b64}\">Download cropped_{filename}</a>'\n",
    "            display(HTML(href))\n",
    "        except Exception as e:\n",
    "            print(f\"Error processing {filename}: {e}\")\n",
    "\n",
    "button.on_click(on_button_click)"
   ]
  },
  {
   "cell_type": "code",
   "execution_count": null,
   "id": "b2e7206d-43f0-473f-a8ed-00289d7ba69e",
   "metadata": {},
   "outputs": [],
   "source": [
    "pip install Pillow"
   ]
  }
 ],
 "metadata": {
  "kernelspec": {
   "display_name": "Python 3 (ipykernel)",
   "language": "python",
   "name": "python3"
  },
  "language_info": {
   "codemirror_mode": {
    "name": "ipython",
    "version": 3
   },
   "file_extension": ".py",
   "mimetype": "text/x-python",
   "name": "python",
   "nbconvert_exporter": "python",
   "pygments_lexer": "ipython3",
   "version": "3.11.9"
  }
 },
 "nbformat": 4,
 "nbformat_minor": 5
}
