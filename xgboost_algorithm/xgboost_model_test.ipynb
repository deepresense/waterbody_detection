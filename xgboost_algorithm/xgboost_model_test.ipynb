{
 "cells": [
  {
   "cell_type": "code",
   "execution_count": 1,
   "id": "e75f421d-99b1-4e4d-a162-f3713ac49151",
   "metadata": {},
   "outputs": [
    {
     "data": {
      "application/vnd.jupyter.widget-view+json": {
       "model_id": "b95b71b17e004ba7b353e3492905c7a0",
       "version_major": 2,
       "version_minor": 0
      },
      "text/plain": [
       "FileUpload(value=(), accept='.pkl', description='Upload Model (.pkl)')"
      ]
     },
     "metadata": {},
     "output_type": "display_data"
    },
    {
     "data": {
      "application/vnd.jupyter.widget-view+json": {
       "model_id": "7b6b87521a7e499ca73ff2e5d99f4525",
       "version_major": 2,
       "version_minor": 0
      },
      "text/plain": [
       "FileUpload(value=(), accept='.tif,.jpg,.png', description='Upload Image')"
      ]
     },
     "metadata": {},
     "output_type": "display_data"
    },
    {
     "data": {
      "application/vnd.jupyter.widget-view+json": {
       "model_id": "9d901b3b9ef64bfb8da27306178d296f",
       "version_major": 2,
       "version_minor": 0
      },
      "text/plain": [
       "Text(value='prediction.tif', description='Output Name:')"
      ]
     },
     "metadata": {},
     "output_type": "display_data"
    },
    {
     "data": {
      "application/vnd.jupyter.widget-view+json": {
       "model_id": "424282dcb4b645aaa918bd810facc86b",
       "version_major": 2,
       "version_minor": 0
      },
      "text/plain": [
       "FileChooser(path='E:\\Faruq\\Business\\DEEPRESENSE\\Experimental\\binary classification\\water body\\Model\\XGBoost Al…"
      ]
     },
     "metadata": {},
     "output_type": "display_data"
    },
    {
     "data": {
      "application/vnd.jupyter.widget-view+json": {
       "model_id": "072df996b5314384952865c748cea63a",
       "version_major": 2,
       "version_minor": 0
      },
      "text/plain": [
       "Button(button_style='success', description='Run Prediction', style=ButtonStyle())"
      ]
     },
     "metadata": {},
     "output_type": "display_data"
    },
    {
     "data": {
      "application/vnd.jupyter.widget-view+json": {
       "model_id": "e9f94fe75c6846028ed1b18a8425fd9c",
       "version_major": 2,
       "version_minor": 0
      },
      "text/plain": [
       "Output()"
      ]
     },
     "metadata": {},
     "output_type": "display_data"
    }
   ],
   "source": [
    "import joblib\n",
    "import cv2\n",
    "import numpy as np\n",
    "import os\n",
    "import ipywidgets as widgets\n",
    "from IPython.display import display\n",
    "from pathlib import Path\n",
    "from ipyfilechooser import FileChooser\n",
    "\n",
    "# Upload model and image\n",
    "model_picker = widgets.FileUpload(accept='.pkl', multiple=False, description='Upload Model (.pkl)')\n",
    "image_picker = widgets.FileUpload(accept='.tif,.jpg,.png', multiple=False, description='Upload Image')\n",
    "\n",
    "# Output file name and folder picker\n",
    "output_name = widgets.Text(value='prediction.tif', description='Output Name:')\n",
    "folder_chooser = FileChooser(os.getcwd())\n",
    "folder_chooser.title = 'Select Output Folder'\n",
    "\n",
    "run_button = widgets.Button(description='Run Prediction', button_style='success')\n",
    "output = widgets.Output()\n",
    "\n",
    "display(model_picker, image_picker, output_name, folder_chooser, run_button, output)\n",
    "\n",
    "def on_run_clicked(b):\n",
    "    with output:\n",
    "        output.clear_output()\n",
    "        \n",
    "        if not model_picker.value or not image_picker.value:\n",
    "            print(\"❌ Please upload both model and image.\")\n",
    "            return\n",
    "        \n",
    "        if not folder_chooser.selected_path:\n",
    "            print(\"❌ Please select an output folder.\")\n",
    "            return\n",
    "\n",
    "        # Get uploaded files\n",
    "        model_file = model_picker.value[0]\n",
    "        image_file = image_picker.value[0]\n",
    "\n",
    "        # Save them temporarily\n",
    "        model_path = Path(\"temp_model.pkl\")\n",
    "        image_path = Path(\"temp_image.tif\")\n",
    "        model_path.write_bytes(model_file['content'])\n",
    "        image_path.write_bytes(image_file['content'])\n",
    "\n",
    "        # Load model and image\n",
    "        model = joblib.load(model_path)\n",
    "        new_img = cv2.imread(str(image_path))\n",
    "\n",
    "        if new_img is None:\n",
    "            print(\"❌ Failed to load image.\")\n",
    "            return\n",
    "\n",
    "        # Predict\n",
    "        new_features = new_img.reshape(-1, 3)\n",
    "        predictions = model.predict(new_features)\n",
    "        pred_img = predictions.reshape(new_img.shape[:2])\n",
    "        mask = (pred_img * 255).astype('uint8')\n",
    "\n",
    "        # Save output\n",
    "        output_file = Path(folder_chooser.selected_path) / output_name.value\n",
    "        cv2.imwrite(str(output_file), mask)\n",
    "\n",
    "        print(f\"✅ Prediction saved to: {output_file}\")\n",
    "        print(mask)\n",
    "\n",
    "# Bind run button\n",
    "run_button.on_click(on_run_clicked)\n"
   ]
  },
  {
   "cell_type": "code",
   "execution_count": null,
   "id": "2997a2d2-52da-4f30-9bbf-d1b0130bb411",
   "metadata": {},
   "outputs": [],
   "source": []
  }
 ],
 "metadata": {
  "kernelspec": {
   "display_name": "Python 3 (ipykernel)",
   "language": "python",
   "name": "python3"
  },
  "language_info": {
   "codemirror_mode": {
    "name": "ipython",
    "version": 3
   },
   "file_extension": ".py",
   "mimetype": "text/x-python",
   "name": "python",
   "nbconvert_exporter": "python",
   "pygments_lexer": "ipython3",
   "version": "3.11.9"
  }
 },
 "nbformat": 4,
 "nbformat_minor": 5
}
