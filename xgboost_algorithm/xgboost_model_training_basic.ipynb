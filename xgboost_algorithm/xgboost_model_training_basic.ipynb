{
 "cells": [
  {
   "cell_type": "code",
   "execution_count": 21,
   "id": "1e81f139-849c-4ecd-a82f-4e7a9b75a8cb",
   "metadata": {},
   "outputs": [],
   "source": [
    "# Importing neccesary libraries\n",
    "import os\n",
    "import cv2\n",
    "import numpy as np\n",
    "import joblib\n",
    "import time\n",
    "from tqdm import tqdm\n",
    "from xgboost import XGBClassifier\n",
    "from sklearn.model_selection import train_test_split\n",
    "from sklearn.metrics import accuracy_score, classification_report, confusion_matrix\n",
    "from IPython.display import display\n",
    "from ipyfilechooser import FileChooser\n",
    "import ipywidgets as widgets"
   ]
  },
  {
   "cell_type": "code",
   "execution_count": 23,
   "id": "2078e6d7-c399-485d-9571-6ebca9dc2d60",
   "metadata": {},
   "outputs": [
    {
     "data": {
      "application/vnd.jupyter.widget-view+json": {
       "model_id": "027706a5f4eb4b6f8b6600df7fa76b5b",
       "version_major": 2,
       "version_minor": 0
      },
      "text/plain": [
       "FileChooser(path='E:\\Faruq\\Business\\DEEPRESENSE\\Experimental\\binary classification\\water body\\Model\\XGBoost Al…"
      ]
     },
     "metadata": {},
     "output_type": "display_data"
    },
    {
     "data": {
      "application/vnd.jupyter.widget-view+json": {
       "model_id": "49e60ee2f30647bfad65c7404342be61",
       "version_major": 2,
       "version_minor": 0
      },
      "text/plain": [
       "FileChooser(path='E:\\Faruq\\Business\\DEEPRESENSE\\Experimental\\binary classification\\water body\\Model\\XGBoost Al…"
      ]
     },
     "metadata": {},
     "output_type": "display_data"
    },
    {
     "data": {
      "application/vnd.jupyter.widget-view+json": {
       "model_id": "499eb31f58c24307b659341e59389684",
       "version_major": 2,
       "version_minor": 0
      },
      "text/plain": [
       "FileChooser(path='E:\\Faruq\\Business\\DEEPRESENSE\\Experimental\\binary classification\\water body\\Model\\XGBoost Al…"
      ]
     },
     "metadata": {},
     "output_type": "display_data"
    },
    {
     "data": {
      "application/vnd.jupyter.widget-view+json": {
       "model_id": "cb6042a7ac184561903cf656d0948c9d",
       "version_major": 2,
       "version_minor": 0
      },
      "text/plain": [
       "Text(value='processed_output.pkl', description='Output Name:', layout=Layout(width='50%'), placeholder='Enter …"
      ]
     },
     "metadata": {},
     "output_type": "display_data"
    },
    {
     "data": {
      "application/vnd.jupyter.widget-view+json": {
       "model_id": "25617c741ebd4f5fa2acf10cdae6059b",
       "version_major": 2,
       "version_minor": 0
      },
      "text/plain": [
       "Button(button_style='success', description='Run Preprocessing + Train', style=ButtonStyle())"
      ]
     },
     "metadata": {},
     "output_type": "display_data"
    },
    {
     "data": {
      "application/vnd.jupyter.widget-view+json": {
       "model_id": "ea067ed002584b4e99ef6fbecf54efe4",
       "version_major": 2,
       "version_minor": 0
      },
      "text/plain": [
       "Output()"
      ]
     },
     "metadata": {},
     "output_type": "display_data"
    }
   ],
   "source": [
    "# ---------- GUI INPUTS ----------\n",
    "image_folder_picker = FileChooser(os.getcwd())\n",
    "image_folder_picker.title = 'Select Image Folder'\n",
    "image_folder_picker.show_only_dirs = True\n",
    "\n",
    "label_folder_picker = FileChooser(os.getcwd())\n",
    "label_folder_picker.title = 'Select Label Folder'\n",
    "label_folder_picker.show_only_dirs = True\n",
    "\n",
    "output_folder_picker = FileChooser(os.getcwd())\n",
    "output_folder_picker.title = 'Select Output Folder'\n",
    "output_folder_picker.show_only_dirs = True\n",
    "\n",
    "output_name_text = widgets.Text(\n",
    "    value='processed_output.pkl',\n",
    "    placeholder='Enter output file name',\n",
    "    description='Output Name:',\n",
    "    layout=widgets.Layout(width='50%')\n",
    ")\n",
    "\n",
    "run_button = widgets.Button(description=\"Run Preprocessing + Train\", button_style='success')\n",
    "output = widgets.Output()\n",
    "\n",
    "# ---------- DISPLAY WIDGETS ----------\n",
    "display(image_folder_picker, label_folder_picker, output_folder_picker, output_name_text, run_button, output)\n",
    "\n",
    "# ---------- BUTTON CALLBACK ----------\n",
    "def on_run_clicked(b):\n",
    "    with output:\n",
    "        output.clear_output()\n",
    "\n",
    "        IMAGE_DIR = image_folder_picker.selected_path\n",
    "        LABEL_DIR = label_folder_picker.selected_path\n",
    "        OUTPUT_DIR = output_folder_picker.selected_path\n",
    "        OUTPUT_NAME = output_name_text.value.strip()\n",
    "\n",
    "        if not IMAGE_DIR or not LABEL_DIR or not OUTPUT_DIR or not OUTPUT_NAME:\n",
    "            print(\"❌ Please complete all inputs: folders and output name.\")\n",
    "            return\n",
    "\n",
    "        print(f\"📁 Image Folder: {IMAGE_DIR}\")\n",
    "        print(f\"📁 Label Folder: {LABEL_DIR}\")\n",
    "        print(f\"📁 Output Folder: {OUTPUT_DIR}\")\n",
    "        print(f\"💾 Output File Name: {OUTPUT_NAME}\")\n",
    "\n",
    "        start_time = time.time()\n",
    "        all_features = []\n",
    "        all_labels = []\n",
    "\n",
    "        image_files = sorted(os.listdir(IMAGE_DIR))\n",
    "        label_files = sorted(os.listdir(LABEL_DIR))\n",
    "\n",
    "        for img_file, lbl_file in zip(image_files, label_files):\n",
    "            img_path = os.path.join(IMAGE_DIR, img_file)\n",
    "            lbl_path = os.path.join(LABEL_DIR, lbl_file)\n",
    "\n",
    "            img = cv2.imread(img_path)\n",
    "            label = cv2.imread(lbl_path, cv2.IMREAD_UNCHANGED)\n",
    "\n",
    "            if img is None or label is None:\n",
    "                print(f\"⚠️ Skipping {img_file}/{lbl_file} - Failed to load\")\n",
    "                continue\n",
    "\n",
    "            if img.shape[:2] != label.shape[:2]:\n",
    "                print(f\"🔧 Resizing {lbl_file} to match {img_file}\")\n",
    "                label = cv2.resize(label, (img.shape[1], img.shape[0]), interpolation=cv2.INTER_NEAREST)\n",
    "\n",
    "            all_features.append(img.reshape(-1, 3))\n",
    "            all_labels.append(label.flatten())\n",
    "\n",
    "        # Combine and split\n",
    "        features = np.concatenate(all_features)\n",
    "        labels = np.concatenate(all_labels)\n",
    "\n",
    "        X_train, X_test, y_train, y_test = train_test_split(\n",
    "            features, labels, test_size=0.2, stratify=labels, random_state=42\n",
    "        )\n",
    "\n",
    "\n",
    "        # ---------- XGBoost Training ----------\n",
    "        print(\"🛠️ Training XGBoost model...\")\n",
    "        model = XGBClassifier(\n",
    "            n_estimators=100,\n",
    "            learning_rate=0.1,\n",
    "            max_depth=6,\n",
    "            subsample=0.8,\n",
    "            colsample_bytree=0.8,\n",
    "            random_state=42,\n",
    "            n_jobs=-1,\n",
    "            eval_metric='logloss',\n",
    "            early_stopping_rounds=10\n",
    "        )\n",
    "\n",
    "        with tqdm(total=100, desc=\"Training Progress\") as pbar:\n",
    "            model.fit(X_train, y_train, eval_set=[(X_test, y_test)], verbose=False)\n",
    "            pbar.update(100)\n",
    "\n",
    "        print(\"✅ XGBoost training complete.\")\n",
    "\n",
    "         # Save using joblib as .pkl\n",
    "        output_path = os.path.join(OUTPUT_DIR, OUTPUT_NAME)\n",
    "        joblib.dump(model, output_path)\n",
    "\n",
    "        print(f\"✅ Processing complete in {time.time() - start_time:.2f} seconds.\")\n",
    "        print(f\"📊 Train samples: {len(X_train)}, Test samples: {len(X_test)}\")\n",
    "        print(f\"💾 Output saved to: {output_path}\")\n",
    "        # Evaluate\n",
    "        y_pred = model.predict(X_test)\n",
    "        print(f\"\\n✅ Accuracy: {accuracy_score(y_test, y_pred):.4f}\")\n",
    "        print(\"\\n📋 Classification Report:\")\n",
    "        print(classification_report(y_test, y_pred))\n",
    "        print(\"\\n🧩 Confusion Matrix:\")\n",
    "        print(confusion_matrix(y_test, y_pred))\n",
    "        \n",
    "        print(f\"🕒 Total runtime: {time.time() - start_time:.2f} seconds\")\n",
    "\n",
    "        \n",
    "# Bind button\n",
    "run_button.on_click(on_run_clicked)"
   ]
  },
  {
   "cell_type": "code",
   "execution_count": null,
   "id": "aab1b2d1-a946-41e0-9344-7432d3ed9758",
   "metadata": {},
   "outputs": [],
   "source": []
  }
 ],
 "metadata": {
  "kernelspec": {
   "display_name": "Python 3 (ipykernel)",
   "language": "python",
   "name": "python3"
  },
  "language_info": {
   "codemirror_mode": {
    "name": "ipython",
    "version": 3
   },
   "file_extension": ".py",
   "mimetype": "text/x-python",
   "name": "python",
   "nbconvert_exporter": "python",
   "pygments_lexer": "ipython3",
   "version": "3.11.9"
  }
 },
 "nbformat": 4,
 "nbformat_minor": 5
}
